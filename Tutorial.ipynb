{
 "cells": [
  {
   "cell_type": "markdown",
   "id": "57fdacfa-3d05-4643-b8a4-5fe88bf0725a",
   "metadata": {},
   "source": [
    "# SoniTEA STRAUSS Tutorial\n",
    "A hands-on introduction to sonification with STRAUSS"
   ]
  },
  {
   "cell_type": "markdown",
   "id": "c6f30e12-bd0c-452f-8de4-efd25397ddc0",
   "metadata": {},
   "source": [
    "### Importing useful modules"
   ]
  },
  {
   "cell_type": "code",
   "execution_count": 6,
   "id": "f5a51b37-c3be-4290-b9d3-e259b60ee801",
   "metadata": {},
   "outputs": [
    {
     "name": "stdout",
     "output_type": "stream",
     "text": [
      "The autoreload extension is already loaded. To reload it, use:\n",
      "  %reload_ext autoreload\n"
     ]
    }
   ],
   "source": [
    "%matplotlib inline\n",
    "%autoreload 1\n",
    "\n",
    "# strauss imports\n",
    "from strauss.sonification import Sonification\n",
    "from strauss.sources import Events, Objects\n",
    "from strauss import channels\n",
    "from strauss.score import Score\n",
    "from strauss.generator import Sampler, Synthesizer, Spectralizer\n",
    "from strauss import sources as Sources\n",
    "import strauss\n",
    "\n",
    "# other useful modules\n",
    "import matplotlib.pyplot as plt\n",
    "import numpy as np\n",
    "from scipy.stats import norm\n",
    "from scipy.signal import savgol_filter\n",
    "import urllib.request\n",
    "import os\n",
    "import zipfile\n",
    "import glob\n",
    "import yaml\n",
    "import pandas as pd\n",
    "\n",
    "# modules to display in-notebook\n",
    "import IPython.display as ipd\n",
    "from IPython.display import display, Markdown, Latex, Image\n",
    "\n",
    "# set figures to be a decent size by default\n",
    "import matplotlib\n",
    "font = {'family' : 'sans-serif',\n",
    "        'weight' : 'normal',\n",
    "        'size'   : 18}\n",
    "matplotlib.rc('font', **font)\n",
    "matplotlib.rc('figure', **{'figsize':[14.0, 7.0]})"
   ]
  },
  {
   "cell_type": "markdown",
   "id": "bafc5713-dd06-4a97-9950-b78d499f42e7",
   "metadata": {},
   "source": [
    "## 1. Get data"
   ]
  },
  {
   "cell_type": "markdown",
   "id": "0daf19fd-874d-40f3-8d45-c03bf71ec151",
   "metadata": {},
   "source": [
    "# Parameter Mapping"
   ]
  },
  {
   "cell_type": "markdown",
   "id": "60bd5eaa-4d87-487a-b02d-c90770a19db4",
   "metadata": {},
   "source": [
    "## Events"
   ]
  },
  {
   "cell_type": "markdown",
   "id": "b36682f6-1247-4204-aa28-5be948140911",
   "metadata": {},
   "source": [
    "## Objects"
   ]
  },
  {
   "cell_type": "markdown",
   "id": "c3847a73-1ddb-4a45-9e9f-c64e8cc275f5",
   "metadata": {},
   "source": []
  },
  {
   "cell_type": "code",
   "execution_count": 3,
   "id": "e499b41a-c260-4ab3-af13-2aa63034ac3a",
   "metadata": {},
   "outputs": [],
   "source": [
    "# STRAUSS Tutorial Notebook\n",
    "# A 1.5 hour hands-on introduction to sonification with STRAUSS\n",
    "\n",
    "# --- Section 1: Setup & Imports ---\n",
    "\n",
    "# Install STRAUSS (uncomment if running on a fresh environment)\n",
    "# !pip install strauss\n",
    "\n",
    "import numpy as np\n",
    "import matplotlib.pyplot as plt\n",
    "from strauss.generator import Synthesizer\n",
    "from strauss.score import Score\n",
    "from strauss.sonification import Sonification"
   ]
  },
  {
   "cell_type": "code",
   "execution_count": 4,
   "id": "06e63af0-f668-453f-ac15-b69046d14589",
   "metadata": {},
   "outputs": [
    {
     "name": "stderr",
     "output_type": "stream",
     "text": [
      "/var/folders/yr/wwgd4v7j3xg_1054z13xlttw0000gp/T/ipykernel_74212/1698766122.py:17: UserWarning: FigureCanvasAgg is non-interactive, and thus cannot be shown\n",
      "  plt.show()\n"
     ]
    },
    {
     "ename": "TypeError",
     "evalue": "Synthesizer.__init__() got an unexpected keyword argument 'parameter'",
     "output_type": "error",
     "traceback": [
      "\u001b[31m---------------------------------------------------------------------------\u001b[39m",
      "\u001b[31mTypeError\u001b[39m                                 Traceback (most recent call last)",
      "\u001b[36mCell\u001b[39m\u001b[36m \u001b[39m\u001b[32mIn[4]\u001b[39m\u001b[32m, line 20\u001b[39m\n\u001b[32m     17\u001b[39m plt.show()\n\u001b[32m     19\u001b[39m \u001b[38;5;66;03m# Map sine wave values to pitch using Synthesiser generator\u001b[39;00m\n\u001b[32m---> \u001b[39m\u001b[32m20\u001b[39m gen = \u001b[43mSynthesizer\u001b[49m\u001b[43m(\u001b[49m\u001b[43mparameter\u001b[49m\u001b[43m=\u001b[49m\u001b[33;43m\"\u001b[39;49m\u001b[33;43mpitch\u001b[39;49m\u001b[33;43m\"\u001b[39;49m\u001b[43m,\u001b[49m\u001b[43m \u001b[49m\u001b[43mparameter_range\u001b[49m\u001b[43m=\u001b[49m\u001b[43m(\u001b[49m\u001b[32;43m200\u001b[39;49m\u001b[43m,\u001b[49m\u001b[43m \u001b[49m\u001b[32;43m800\u001b[39;49m\u001b[43m)\u001b[49m\u001b[43m)\u001b[49m\n\u001b[32m     21\u001b[39m score = Score(data, generator=gen, duration=\u001b[32m0.2\u001b[39m)\n\u001b[32m     23\u001b[39m son = Sonification(score)\n",
      "\u001b[31mTypeError\u001b[39m: Synthesizer.__init__() got an unexpected keyword argument 'parameter'"
     ]
    }
   ],
   "source": [
    "# --- Section 2: Motivation & Objectives ---\n",
    "# In this tutorial, you will learn:\n",
    "# - What sonification is and why it is useful\n",
    "# - How to use STRAUSS to map data into sound\n",
    "# - How to configure generators, scores, and sonifications\n",
    "# - How to experiment with different datasets and mappings\n",
    "# - Best practices and pitfalls in data sonification\n",
    "\n",
    "# --- Section 3: First Example: A Toy Dataset ---\n",
    "# Let's start with a simple sine wave dataset and map it to pitch.\n",
    "\n",
    "x = np.linspace(0, 2*np.pi, 50)\n",
    "data = np.sin(x)\n",
    "\n",
    "plt.plot(x, data)\n",
    "plt.title(\"Toy dataset: sine wave\")\n",
    "plt.show()\n",
    "\n",
    "# Map sine wave values to pitch using Synthesiser generator\n",
    "gen = Synthesizer(parameter=\"pitch\", parameter_range=(200, 800))\n",
    "score = Score(data, generator=gen, duration=0.2)\n",
    "\n",
    "son = Sonification(score)\n",
    "son.play()  # This should produce sound if playback is available"
   ]
  },
  {
   "cell_type": "code",
   "execution_count": null,
   "id": "27f0b684-53b3-4140-9c5d-db4fee0faacb",
   "metadata": {},
   "outputs": [],
   "source": [
    "# --- Section 4: Exploring Mappings ---\n",
    "# Let's try mapping the same data to volume instead of pitch.\n",
    "\n",
    "gen_vol = Synthesiser(parameter=\"volume\", parameter_range=(0.1, 1.0))\n",
    "score_vol = Score(data, generator=gen_vol, duration=0.2)\n",
    "\n",
    "son_vol = Sonification(score_vol)\n",
    "son_vol.play()\n",
    "\n",
    "# Exercise: Change mappings to other parameters such as 'pan', 'duration'.\n",
    "\n",
    "# --- Section 5: Using Real Datasets ---\n",
    "# Let's load a simple dataset: daily temperature anomalies (synthetic example).\n",
    "\n",
    "days = np.arange(30)\n",
    "temps = np.random.normal(0, 1, size=30).cumsum()  # fake climate-like dataset\n",
    "\n",
    "plt.plot(days, temps)\n",
    "plt.title(\"Synthetic temperature anomaly dataset\")\n",
    "plt.show()\n",
    "\n",
    "# Map temperature to pitch\n",
    "gen_temp = Synthesiser(parameter=\"pitch\", parameter_range=(200, 1200))\n",
    "score_temp = Score(temps, generator=gen_temp, duration=0.25)\n",
    "\n",
    "son_temp = Sonification(score_temp)\n",
    "son_temp.play()\n",
    "\n",
    "# --- Section 6: Multi-channel Sonification ---\n",
    "# Combine two mappings: pitch for data value, pan for time.\n",
    "\n",
    "gen_pitch = Synthesiser(parameter=\"pitch\", parameter_range=(200, 1000))\n",
    "gen_pan = Synthesiser(parameter=\"pan\", parameter_range=(-1, 1))\n",
    "\n",
    "score_pitch = Score(temps, generator=gen_pitch, duration=0.25)\n",
    "score_pan = Score(days, generator=gen_pan, duration=0.25)\n",
    "\n",
    "son_multi = Sonification([score_pitch, score_pan])\n",
    "son_multi.play()\n",
    "\n",
    "# --- Section 7: Hands-on Exercise ---\n",
    "# TODO: Provide learners with a dataset (e.g., stock prices, earthquake events)\n",
    "# and ask them to:\n",
    "# - Choose mappings (e.g., pitch, volume, pan)\n",
    "# - Create at least one sonification\n",
    "# - Reflect on what is conveyed and what is lost\n",
    "\n",
    "# --- Section 8: Best Practices ---\n",
    "# Guidelines:\n",
    "# - Be mindful of perceptual limits (too fast/slow, pitch range, volume)\n",
    "# - Avoid masking by layering too many channels\n",
    "# - Normalize datasets before mapping\n",
    "# - Use repetition and contrast to highlight patterns\n",
    "\n",
    "# --- Section 9: Wrap-up ---\n",
    "# - STRAUSS provides a flexible framework for turning data into sound.\n",
    "# - You can experiment with mappings, datasets, and generators.\n",
    "# - Check out the official docs and example notebooks for inspiration.\n",
    "#\n",
    "# Resources:\n",
    "# https://strauss.readthedocs.io/en/latest/\n",
    "# https://github.com/InteractiveSonification/strauss-examples"
   ]
  }
 ],
 "metadata": {
  "kernelspec": {
   "display_name": "Python 3 (ipykernel)",
   "language": "python",
   "name": "python3"
  },
  "language_info": {
   "codemirror_mode": {
    "name": "ipython",
    "version": 3
   },
   "file_extension": ".py",
   "mimetype": "text/x-python",
   "name": "python",
   "nbconvert_exporter": "python",
   "pygments_lexer": "ipython3",
   "version": "3.12.11"
  }
 },
 "nbformat": 4,
 "nbformat_minor": 5
}
